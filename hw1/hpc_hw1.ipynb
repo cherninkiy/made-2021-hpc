{
 "cells": [
  {
   "cell_type": "markdown",
   "id": "65b9f2d1",
   "metadata": {},
   "source": [
    "# MADE-2021 HPC\n",
    "\n",
    "## Домашнее задание №1\n",
    "\n",
    "Студент: Черников Дмитрий MADE_ML-32"
   ]
  },
  {
   "cell_type": "code",
   "execution_count": 5,
   "id": "5936cbb2",
   "metadata": {},
   "outputs": [],
   "source": [
    "import numpy as np\n",
    "import pandas as pd\n",
    "from matplotlib import pyplot as plt\n",
    "\n",
    "%matplotlib inline"
   ]
  },
  {
   "cell_type": "code",
   "execution_count": 6,
   "id": "8f6be520",
   "metadata": {},
   "outputs": [
    {
     "name": "stdout",
     "output_type": "stream",
     "text": [
      "Cloning into 'top500'...\n",
      "remote: Enumerating objects: 217, done.\u001b[K\n",
      "remote: Counting objects: 100% (5/5), done.\u001b[K\n",
      "remote: Compressing objects: 100% (5/5), done.\u001b[K\n",
      "remote: Total 217 (delta 0), reused 2 (delta 0), pack-reused 212\u001b[K\n",
      "Receiving objects: 100% (217/217), 2.77 MiB | 2.12 MiB/s, done.\n",
      "Resolving deltas: 100% (105/105), done.\n"
     ]
    }
   ],
   "source": [
    "# Scrapper forked from\n",
    "# https://github.com/codificat/top500\n",
    "# with minor kludge fixes\n",
    "\n",
    "!git clone https://github.com/cherninkiy/top500.git"
   ]
  },
  {
   "cell_type": "markdown",
   "id": "0c2745c8",
   "metadata": {},
   "source": [
    "## Задание 1\n",
    "\n",
    "На основании данных рейтинга top500 спрогнозировать  производительность компьютера №1 в 2025\n",
    "\n",
    "### Ответ получился порядка 10 EFlop/s ~ 10^19 Flop/s"
   ]
  },
  {
   "cell_type": "code",
   "execution_count": 7,
   "id": "e49adc24",
   "metadata": {
    "scrolled": true
   },
   "outputs": [
    {
     "name": "stdout",
     "output_type": "stream",
     "text": [
      "* Scraping TOP500 list edition: 1993/6\r\n",
      "** Page 1 of 1\r\n",
      "-- Downloading: https://www.top500.org/lists/top500/list/1993/06/?page=1\r\n",
      "-- Downloading: https://www.top500.org/system/166997\r\n",
      "-- Downloading: https://www.top500.org/system/167059\r\n"
     ]
    }
   ],
   "source": [
    "#!python ./top500/scrape.py --year 1993 --month 6  --count 100 top100hpc.csv >./top100hpc.log\n",
    "!head -n 5 ./top100hpc.log"
   ]
  },
  {
   "cell_type": "code",
   "execution_count": 8,
   "id": "d57cb076",
   "metadata": {},
   "outputs": [
    {
     "data": {
      "text/html": [
       "<div>\n",
       "<style scoped>\n",
       "    .dataframe tbody tr th:only-of-type {\n",
       "        vertical-align: middle;\n",
       "    }\n",
       "\n",
       "    .dataframe tbody tr th {\n",
       "        vertical-align: top;\n",
       "    }\n",
       "\n",
       "    .dataframe thead th {\n",
       "        text-align: right;\n",
       "    }\n",
       "</style>\n",
       "<table border=\"1\" class=\"dataframe\">\n",
       "  <thead>\n",
       "    <tr style=\"text-align: right;\">\n",
       "      <th></th>\n",
       "      <th>site_name</th>\n",
       "      <th>system_url</th>\n",
       "      <th>manufacturer</th>\n",
       "      <th>cores</th>\n",
       "      <th>memory</th>\n",
       "      <th>processor</th>\n",
       "      <th>interconnect</th>\n",
       "      <th>rmax</th>\n",
       "      <th>rpeak</th>\n",
       "      <th>nmax</th>\n",
       "      <th>...</th>\n",
       "      <th>country</th>\n",
       "      <th>site_id</th>\n",
       "      <th>system_id</th>\n",
       "      <th>name</th>\n",
       "      <th>site_url</th>\n",
       "      <th>city</th>\n",
       "      <th>segment</th>\n",
       "      <th>year</th>\n",
       "      <th>month</th>\n",
       "      <th>rank</th>\n",
       "    </tr>\n",
       "  </thead>\n",
       "  <tbody>\n",
       "    <tr>\n",
       "      <th>0</th>\n",
       "      <td>Los Alamos National Laboratory</td>\n",
       "      <td>http://www.acl.lanl.gov/</td>\n",
       "      <td>Thinking Machines CorporationLos Alamos Nation...</td>\n",
       "      <td>1024</td>\n",
       "      <td>NaN</td>\n",
       "      <td>SuperSPARC I  32MHz</td>\n",
       "      <td>Hypercube, tree</td>\n",
       "      <td>59.7</td>\n",
       "      <td>131.0</td>\n",
       "      <td>52224.0</td>\n",
       "      <td>...</td>\n",
       "      <td>NaN</td>\n",
       "      <td>NaN</td>\n",
       "      <td>166997</td>\n",
       "      <td>CM-5/1024</td>\n",
       "      <td>NaN</td>\n",
       "      <td>NaN</td>\n",
       "      <td>NaN</td>\n",
       "      <td>1993</td>\n",
       "      <td>6</td>\n",
       "      <td>1</td>\n",
       "    </tr>\n",
       "    <tr>\n",
       "      <th>1</th>\n",
       "      <td>Minnesota Supercomputer Center</td>\n",
       "      <td>NaN</td>\n",
       "      <td>Thinking Machines CorporationMinnesota Superco...</td>\n",
       "      <td>544</td>\n",
       "      <td>NaN</td>\n",
       "      <td>SuperSPARC I  32MHz</td>\n",
       "      <td>Hypercube, tree</td>\n",
       "      <td>30.4</td>\n",
       "      <td>69.6</td>\n",
       "      <td>36864.0</td>\n",
       "      <td>...</td>\n",
       "      <td>NaN</td>\n",
       "      <td>NaN</td>\n",
       "      <td>167059</td>\n",
       "      <td>CM-5/544</td>\n",
       "      <td>NaN</td>\n",
       "      <td>NaN</td>\n",
       "      <td>NaN</td>\n",
       "      <td>1993</td>\n",
       "      <td>6</td>\n",
       "      <td>2</td>\n",
       "    </tr>\n",
       "    <tr>\n",
       "      <th>2</th>\n",
       "      <td>NCSA</td>\n",
       "      <td>NaN</td>\n",
       "      <td>Thinking Machines CorporationNCSAUnited States</td>\n",
       "      <td>512</td>\n",
       "      <td>NaN</td>\n",
       "      <td>SuperSPARC I  32MHz</td>\n",
       "      <td>Hypercube, tree</td>\n",
       "      <td>30.4</td>\n",
       "      <td>65.5</td>\n",
       "      <td>36864.0</td>\n",
       "      <td>...</td>\n",
       "      <td>NaN</td>\n",
       "      <td>NaN</td>\n",
       "      <td>167057</td>\n",
       "      <td>CM-5/512</td>\n",
       "      <td>NaN</td>\n",
       "      <td>NaN</td>\n",
       "      <td>NaN</td>\n",
       "      <td>1993</td>\n",
       "      <td>6</td>\n",
       "      <td>3</td>\n",
       "    </tr>\n",
       "  </tbody>\n",
       "</table>\n",
       "<p>3 rows × 28 columns</p>\n",
       "</div>"
      ],
      "text/plain": [
       "                        site_name                system_url  \\\n",
       "0  Los Alamos National Laboratory  http://www.acl.lanl.gov/   \n",
       "1  Minnesota Supercomputer Center                       NaN   \n",
       "2                            NCSA                       NaN   \n",
       "\n",
       "                                        manufacturer  cores  memory  \\\n",
       "0  Thinking Machines CorporationLos Alamos Nation...   1024     NaN   \n",
       "1  Thinking Machines CorporationMinnesota Superco...    544     NaN   \n",
       "2     Thinking Machines CorporationNCSAUnited States    512     NaN   \n",
       "\n",
       "             processor     interconnect  rmax  rpeak     nmax  ...  country  \\\n",
       "0  SuperSPARC I  32MHz  Hypercube, tree  59.7  131.0  52224.0  ...      NaN   \n",
       "1  SuperSPARC I  32MHz  Hypercube, tree  30.4   69.6  36864.0  ...      NaN   \n",
       "2  SuperSPARC I  32MHz  Hypercube, tree  30.4   65.5  36864.0  ...      NaN   \n",
       "\n",
       "   site_id  system_id       name site_url city segment  year  month  rank  \n",
       "0      NaN     166997  CM-5/1024      NaN  NaN     NaN  1993      6     1  \n",
       "1      NaN     167059   CM-5/544      NaN  NaN     NaN  1993      6     2  \n",
       "2      NaN     167057   CM-5/512      NaN  NaN     NaN  1993      6     3  \n",
       "\n",
       "[3 rows x 28 columns]"
      ]
     },
     "execution_count": 8,
     "metadata": {},
     "output_type": "execute_result"
    }
   ],
   "source": [
    "df = pd.read_csv('top100hpc.csv')\n",
    "df.head(3)"
   ]
  },
  {
   "cell_type": "code",
   "execution_count": 9,
   "id": "d23297f3",
   "metadata": {
    "scrolled": false
   },
   "outputs": [
    {
     "data": {
      "text/html": [
       "<div>\n",
       "<style scoped>\n",
       "    .dataframe tbody tr th:only-of-type {\n",
       "        vertical-align: middle;\n",
       "    }\n",
       "\n",
       "    .dataframe tbody tr th {\n",
       "        vertical-align: top;\n",
       "    }\n",
       "\n",
       "    .dataframe thead th {\n",
       "        text-align: right;\n",
       "    }\n",
       "</style>\n",
       "<table border=\"1\" class=\"dataframe\">\n",
       "  <thead>\n",
       "    <tr style=\"text-align: right;\">\n",
       "      <th></th>\n",
       "      <th>manufacturer</th>\n",
       "      <th>cores</th>\n",
       "      <th>memory</th>\n",
       "      <th>processor</th>\n",
       "      <th>interconnect</th>\n",
       "      <th>rmax</th>\n",
       "      <th>rpeak</th>\n",
       "      <th>nmax</th>\n",
       "      <th>nhalf</th>\n",
       "      <th>hpcg</th>\n",
       "      <th>power</th>\n",
       "      <th>os</th>\n",
       "      <th>compiler</th>\n",
       "      <th>math</th>\n",
       "      <th>mpi</th>\n",
       "      <th>gpu</th>\n",
       "      <th>name</th>\n",
       "      <th>year</th>\n",
       "      <th>month</th>\n",
       "    </tr>\n",
       "  </thead>\n",
       "  <tbody>\n",
       "    <tr>\n",
       "      <th>0</th>\n",
       "      <td>Thinking Machines CorporationLos Alamos Nation...</td>\n",
       "      <td>1024</td>\n",
       "      <td>NaN</td>\n",
       "      <td>SuperSPARC I  32MHz</td>\n",
       "      <td>Hypercube, tree</td>\n",
       "      <td>0.0597</td>\n",
       "      <td>0.1310</td>\n",
       "      <td>52224.0</td>\n",
       "      <td>24064.0</td>\n",
       "      <td>NaN</td>\n",
       "      <td>NaN</td>\n",
       "      <td>CMOST</td>\n",
       "      <td>NaN</td>\n",
       "      <td>NaN</td>\n",
       "      <td>NaN</td>\n",
       "      <td>NaN</td>\n",
       "      <td>CM-5/1024</td>\n",
       "      <td>1993</td>\n",
       "      <td>6</td>\n",
       "    </tr>\n",
       "    <tr>\n",
       "      <th>1</th>\n",
       "      <td>FujitsuNational Aerospace Laboratory of JapanJ...</td>\n",
       "      <td>140</td>\n",
       "      <td>NaN</td>\n",
       "      <td>Fujitsu  105MHz</td>\n",
       "      <td>Full distributed crossbar</td>\n",
       "      <td>0.1240</td>\n",
       "      <td>0.2358</td>\n",
       "      <td>NaN</td>\n",
       "      <td>NaN</td>\n",
       "      <td>NaN</td>\n",
       "      <td>NaN</td>\n",
       "      <td>UXP/V</td>\n",
       "      <td>NaN</td>\n",
       "      <td>NaN</td>\n",
       "      <td>NaN</td>\n",
       "      <td>NaN</td>\n",
       "      <td>Numerical Wind Tunnel</td>\n",
       "      <td>1993</td>\n",
       "      <td>11</td>\n",
       "    </tr>\n",
       "    <tr>\n",
       "      <th>2</th>\n",
       "      <td>IntelSandia National LaboratoriesUnited States</td>\n",
       "      <td>3680</td>\n",
       "      <td>NaN</td>\n",
       "      <td>Intel 80860  50MHz</td>\n",
       "      <td>2-D mesh (torus)</td>\n",
       "      <td>0.1434</td>\n",
       "      <td>0.1840</td>\n",
       "      <td>55700.0</td>\n",
       "      <td>20500.0</td>\n",
       "      <td>NaN</td>\n",
       "      <td>NaN</td>\n",
       "      <td>OSF/1</td>\n",
       "      <td>NaN</td>\n",
       "      <td>NaN</td>\n",
       "      <td>NaN</td>\n",
       "      <td>NaN</td>\n",
       "      <td>XP/S140</td>\n",
       "      <td>1994</td>\n",
       "      <td>6</td>\n",
       "    </tr>\n",
       "  </tbody>\n",
       "</table>\n",
       "</div>"
      ],
      "text/plain": [
       "                                        manufacturer  cores  memory  \\\n",
       "0  Thinking Machines CorporationLos Alamos Nation...   1024     NaN   \n",
       "1  FujitsuNational Aerospace Laboratory of JapanJ...    140     NaN   \n",
       "2     IntelSandia National LaboratoriesUnited States   3680     NaN   \n",
       "\n",
       "             processor               interconnect    rmax   rpeak     nmax  \\\n",
       "0  SuperSPARC I  32MHz            Hypercube, tree  0.0597  0.1310  52224.0   \n",
       "1      Fujitsu  105MHz  Full distributed crossbar  0.1240  0.2358      NaN   \n",
       "2   Intel 80860  50MHz           2-D mesh (torus)  0.1434  0.1840  55700.0   \n",
       "\n",
       "     nhalf  hpcg  power     os compiler math  mpi  gpu                   name  \\\n",
       "0  24064.0   NaN    NaN  CMOST      NaN  NaN  NaN  NaN              CM-5/1024   \n",
       "1      NaN   NaN    NaN  UXP/V      NaN  NaN  NaN  NaN  Numerical Wind Tunnel   \n",
       "2  20500.0   NaN    NaN  OSF/1      NaN  NaN  NaN  NaN                XP/S140   \n",
       "\n",
       "   year  month  \n",
       "0  1993      6  \n",
       "1  1993     11  \n",
       "2  1994      6  "
      ]
     },
     "execution_count": 9,
     "metadata": {},
     "output_type": "execute_result"
    }
   ],
   "source": [
    "df_top = df[df['rank'] == 1] \\\n",
    "    .reset_index(drop=True) \\\n",
    "    .dropna(axis=1, how='all') \\\n",
    "    .drop(columns=['rank', 'site_name', 'system_id', 'system_url'])\n",
    "\n",
    "df_top.loc[:22,'rmax'] = df_top.loc[:22,'rmax'] / 1000\n",
    "df_top.loc[:22,'rpeak'] = df_top.loc[:22,'rpeak'] / 1000\n",
    "df_top.head(3)"
   ]
  },
  {
   "cell_type": "code",
   "execution_count": 10,
   "id": "b2a4abcd",
   "metadata": {},
   "outputs": [
    {
     "data": {
      "text/html": [
       "<div>\n",
       "<style scoped>\n",
       "    .dataframe tbody tr th:only-of-type {\n",
       "        vertical-align: middle;\n",
       "    }\n",
       "\n",
       "    .dataframe tbody tr th {\n",
       "        vertical-align: top;\n",
       "    }\n",
       "\n",
       "    .dataframe thead th {\n",
       "        text-align: right;\n",
       "    }\n",
       "</style>\n",
       "<table border=\"1\" class=\"dataframe\">\n",
       "  <thead>\n",
       "    <tr style=\"text-align: right;\">\n",
       "      <th></th>\n",
       "      <th>manufacturer</th>\n",
       "      <th>cores</th>\n",
       "      <th>memory</th>\n",
       "      <th>processor</th>\n",
       "      <th>interconnect</th>\n",
       "      <th>rmax</th>\n",
       "      <th>rpeak</th>\n",
       "      <th>nmax</th>\n",
       "      <th>nhalf</th>\n",
       "      <th>hpcg</th>\n",
       "      <th>power</th>\n",
       "      <th>os</th>\n",
       "      <th>compiler</th>\n",
       "      <th>math</th>\n",
       "      <th>mpi</th>\n",
       "      <th>gpu</th>\n",
       "      <th>name</th>\n",
       "      <th>year</th>\n",
       "      <th>month</th>\n",
       "    </tr>\n",
       "  </thead>\n",
       "  <tbody>\n",
       "    <tr>\n",
       "      <th>53</th>\n",
       "      <td>FujitsuRIKEN Center for Computational ScienceJ...</td>\n",
       "      <td>7299072</td>\n",
       "      <td>5087232.0</td>\n",
       "      <td>A64FX 48C 2.2GHz</td>\n",
       "      <td>Tofu interconnect D</td>\n",
       "      <td>415530.0</td>\n",
       "      <td>513854.7</td>\n",
       "      <td>21288960.0</td>\n",
       "      <td>NaN</td>\n",
       "      <td>16004.5</td>\n",
       "      <td>28335.0</td>\n",
       "      <td>Red Hat Enterprise Linux</td>\n",
       "      <td>FUJITSU Software Technical Computing Suite V4.0</td>\n",
       "      <td>FUJITSU Software Technical Computing Suite V4.0</td>\n",
       "      <td>FUJITSU Software Technical Computing Suite V4.0</td>\n",
       "      <td>NaN</td>\n",
       "      <td>Supercomputer Fugaku- Supercomputer Fugaku</td>\n",
       "      <td>2020</td>\n",
       "      <td>6</td>\n",
       "    </tr>\n",
       "    <tr>\n",
       "      <th>54</th>\n",
       "      <td>FujitsuRIKEN Center for Computational ScienceJ...</td>\n",
       "      <td>7630848</td>\n",
       "      <td>5087232.0</td>\n",
       "      <td>A64FX 48C 2.2GHz</td>\n",
       "      <td>Tofu interconnect D</td>\n",
       "      <td>442010.0</td>\n",
       "      <td>537212.0</td>\n",
       "      <td>21288960.0</td>\n",
       "      <td>NaN</td>\n",
       "      <td>16004.5</td>\n",
       "      <td>29899.0</td>\n",
       "      <td>Red Hat Enterprise Linux</td>\n",
       "      <td>FUJITSU Software Technical Computing Suite V4.0</td>\n",
       "      <td>FUJITSU Software Technical Computing Suite V4.0</td>\n",
       "      <td>FUJITSU Software Technical Computing Suite V4.0</td>\n",
       "      <td>NaN</td>\n",
       "      <td>Supercomputer Fugaku- Supercomputer Fugaku</td>\n",
       "      <td>2020</td>\n",
       "      <td>11</td>\n",
       "    </tr>\n",
       "    <tr>\n",
       "      <th>55</th>\n",
       "      <td>FujitsuRIKEN Center for Computational ScienceJ...</td>\n",
       "      <td>7630848</td>\n",
       "      <td>5087232.0</td>\n",
       "      <td>A64FX 48C 2.2GHz</td>\n",
       "      <td>Tofu interconnect D</td>\n",
       "      <td>442010.0</td>\n",
       "      <td>537212.0</td>\n",
       "      <td>21288960.0</td>\n",
       "      <td>NaN</td>\n",
       "      <td>16004.5</td>\n",
       "      <td>29899.0</td>\n",
       "      <td>Red Hat Enterprise Linux</td>\n",
       "      <td>FUJITSU Software Technical Computing Suite V4.0</td>\n",
       "      <td>FUJITSU Software Technical Computing Suite V4.0</td>\n",
       "      <td>FUJITSU Software Technical Computing Suite V4.0</td>\n",
       "      <td>NaN</td>\n",
       "      <td>Supercomputer Fugaku- Supercomputer Fugaku</td>\n",
       "      <td>2021</td>\n",
       "      <td>6</td>\n",
       "    </tr>\n",
       "  </tbody>\n",
       "</table>\n",
       "</div>"
      ],
      "text/plain": [
       "                                         manufacturer    cores     memory  \\\n",
       "53  FujitsuRIKEN Center for Computational ScienceJ...  7299072  5087232.0   \n",
       "54  FujitsuRIKEN Center for Computational ScienceJ...  7630848  5087232.0   \n",
       "55  FujitsuRIKEN Center for Computational ScienceJ...  7630848  5087232.0   \n",
       "\n",
       "           processor         interconnect      rmax     rpeak        nmax  \\\n",
       "53  A64FX 48C 2.2GHz  Tofu interconnect D  415530.0  513854.7  21288960.0   \n",
       "54  A64FX 48C 2.2GHz  Tofu interconnect D  442010.0  537212.0  21288960.0   \n",
       "55  A64FX 48C 2.2GHz  Tofu interconnect D  442010.0  537212.0  21288960.0   \n",
       "\n",
       "    nhalf     hpcg    power                        os  \\\n",
       "53    NaN  16004.5  28335.0  Red Hat Enterprise Linux   \n",
       "54    NaN  16004.5  29899.0  Red Hat Enterprise Linux   \n",
       "55    NaN  16004.5  29899.0  Red Hat Enterprise Linux   \n",
       "\n",
       "                                           compiler  \\\n",
       "53  FUJITSU Software Technical Computing Suite V4.0   \n",
       "54  FUJITSU Software Technical Computing Suite V4.0   \n",
       "55  FUJITSU Software Technical Computing Suite V4.0   \n",
       "\n",
       "                                               math  \\\n",
       "53  FUJITSU Software Technical Computing Suite V4.0   \n",
       "54  FUJITSU Software Technical Computing Suite V4.0   \n",
       "55  FUJITSU Software Technical Computing Suite V4.0   \n",
       "\n",
       "                                                mpi  gpu  \\\n",
       "53  FUJITSU Software Technical Computing Suite V4.0  NaN   \n",
       "54  FUJITSU Software Technical Computing Suite V4.0  NaN   \n",
       "55  FUJITSU Software Technical Computing Suite V4.0  NaN   \n",
       "\n",
       "                                          name  year  month  \n",
       "53  Supercomputer Fugaku- Supercomputer Fugaku  2020      6  \n",
       "54  Supercomputer Fugaku- Supercomputer Fugaku  2020     11  \n",
       "55  Supercomputer Fugaku- Supercomputer Fugaku  2021      6  "
      ]
     },
     "execution_count": 10,
     "metadata": {},
     "output_type": "execute_result"
    }
   ],
   "source": [
    "df_top.tail(3)"
   ]
  },
  {
   "cell_type": "code",
   "execution_count": 11,
   "id": "f1dec346",
   "metadata": {},
   "outputs": [
    {
     "data": {
      "image/png": "[encoded data removed]",
      "text/plain": [
       "<Figure size 576x432 with 1 Axes>"
      ]
     },
     "metadata": {
      "needs_background": "light"
     },
     "output_type": "display_data"
    }
   ],
   "source": [
    "z = np.polyfit(df_top.index, np.log(df_top['rmax']), 1)\n",
    "rll = np.exp(df_top.index * z[0] + z[1])\n",
    "\n",
    "fig = plt.figure(figsize=(8,6))\n",
    "ax = fig.subplots()\n",
    "\n",
    "ax.plot(df_top.index, rll, color='orange')\n",
    "ax.scatter(df_top.index, rll, color='orange', label='Log-Linear')\n",
    "\n",
    "ax.scatter(df_top.index, df_top['rmax'], label='Real value')\n",
    "ax.set_yscale('log')\n",
    "ax.legend()\n",
    "plt.show()"
   ]
  },
  {
   "cell_type": "markdown",
   "id": "d7665c23",
   "metadata": {},
   "source": [
    "\n",
    "Считаем, что производительность самого быстрого компьютера исторически росла по лог-линейному закону.\n",
    "\n",
    "Для предстказания производительности в 2025 году сэмплим из стандартного нормального распределения."
   ]
  },
  {
   "cell_type": "code",
   "execution_count": 27,
   "id": "5770e724",
   "metadata": {},
   "outputs": [
    {
     "data": {
      "text/plain": [
       "'Sampled rmax values:'"
      ]
     },
     "metadata": {},
     "output_type": "display_data"
    },
    {
     "data": {
      "text/plain": [
       "array([12789352.36839991, 12902900.73292493, 12346786.76348104,\n",
       "       13716458.92981038, 12306927.0645572 , 12649045.03778186,\n",
       "       12014766.74289204, 11382670.92731328, 13478294.02788201,\n",
       "       11687343.5438798 ])"
      ]
     },
     "metadata": {},
     "output_type": "display_data"
    },
    {
     "data": {
      "text/plain": [
       "'Predicted performance: 12527454.613892246 Tflop/s'"
      ]
     },
     "metadata": {},
     "output_type": "display_data"
    },
    {
     "data": {
      "image/png": "[encoded data removed]",
      "text/plain": [
       "<Figure size 576x432 with 1 Axes>"
      ]
     },
     "metadata": {
      "needs_background": "light"
     },
     "output_type": "display_data"
    }
   ],
   "source": [
    "# Feauture top500 lists:\n",
    "future_lists = [\n",
    "    '2021/11',\n",
    "    '2022/06', '2022/11',\n",
    "    '2023/06', '2023/11',\n",
    "    '2024/06', '2024/11',\n",
    "    '2025/06',\n",
    "]\n",
    "\n",
    "temperature = 10\n",
    "n = len(df_top.index)\n",
    "idx = np.arange(n, n + len(future_lists))\n",
    "\n",
    "# standard deviation\n",
    "delta = rll - df_top['rmax']\n",
    "sigma = np.std(delta) * temperature\n",
    "\n",
    "# expected values\n",
    "mu = np.exp(idx * z[0] + z[1])\n",
    "#mu -= list(delta)[-1]\n",
    "\n",
    "# sampled values\n",
    "m = 10\n",
    "sx = []\n",
    "sy = []\n",
    "for i, r in enumerate(mu):\n",
    "    sx.extend([n + i]*m)\n",
    "    sy.extend(np.random.normal(r, sigma, m))\n",
    "\n",
    "preds = np.array(sy[-m:])\n",
    "\n",
    "display('Sampled rmax values:')\n",
    "display(preds)\n",
    "display(f'Predicted performance: {np.mean(preds)} Tflop/s')\n",
    "\n",
    "fig = plt.figure(figsize=(8,6))\n",
    "ax = fig.subplots()\n",
    "\n",
    "ax.plot(df_top.index, rll, color='orange')\n",
    "ax.scatter(df_top.index, rll, color='orange')\n",
    "ax.scatter(sx, sy, color='green')\n",
    "\n",
    "ax.scatter(df_top.index, df_top['rmax'])\n",
    "ax.set_yscale('log')\n",
    "\n",
    "plt.show()"
   ]
  },
  {
   "cell_type": "markdown",
   "id": "9e6a19ad",
   "metadata": {},
   "source": [
    "## Задание 2\n",
    "\n",
    "Оцените какой процент всего производимого на Земле электричества потребляют все компьютеры из top500 (на основании открытых данных top500.org)\n",
    "\n",
    "Данные о произведенной эдектроэнергии отсюда https://en.wikipedia.org/wiki/List_of_countries_by_electricity_production\n",
    "\n",
    "### Ответ получился порядка 2.4e-06%, что очень мало"
   ]
  },
  {
   "cell_type": "code",
   "execution_count": 13,
   "id": "5a16cc7c",
   "metadata": {},
   "outputs": [
    {
     "data": {
      "text/plain": [
       "'Produced power: 26823200000000 kWh'"
      ]
     },
     "execution_count": 13,
     "metadata": {},
     "output_type": "execute_result"
    }
   ],
   "source": [
    "# https://en.wikipedia.org/wiki/List_of_countries_by_electricity_production\n",
    "# World produces 26823200 GWh power\n",
    "\n",
    "PRODUCED_POWER = 26823200 * (10**6)\n",
    "f'Produced power: {PRODUCED_POWER} kWh'"
   ]
  },
  {
   "cell_type": "code",
   "execution_count": 14,
   "id": "021963af",
   "metadata": {},
   "outputs": [
    {
     "name": "stdout",
     "output_type": "stream",
     "text": [
      "* Scraping TOP500 list edition: 2021/6\r\n",
      "** Page 1 of 5\r\n",
      "-- Downloading: https://www.top500.org/lists/top500/list/2021/06/?page=1\r\n",
      "-- Downloading: https://www.top500.org/system/179807\r\n",
      "Igoring unkown detail 'Power Measurement Level:' in system 179807\r\n"
     ]
    }
   ],
   "source": [
    "#!python ./top500/scrape.py --year 2021 --month 6  top500hpc.csv >./top500hpc.log\n",
    "!head -n 5 ./top500hpc.log"
   ]
  },
  {
   "cell_type": "code",
   "execution_count": 15,
   "id": "652f0e8a",
   "metadata": {},
   "outputs": [
    {
     "data": {
      "text/html": [
       "<div>\n",
       "<style scoped>\n",
       "    .dataframe tbody tr th:only-of-type {\n",
       "        vertical-align: middle;\n",
       "    }\n",
       "\n",
       "    .dataframe tbody tr th {\n",
       "        vertical-align: top;\n",
       "    }\n",
       "\n",
       "    .dataframe thead th {\n",
       "        text-align: right;\n",
       "    }\n",
       "</style>\n",
       "<table border=\"1\" class=\"dataframe\">\n",
       "  <thead>\n",
       "    <tr style=\"text-align: right;\">\n",
       "      <th></th>\n",
       "      <th>site_name</th>\n",
       "      <th>system_url</th>\n",
       "      <th>manufacturer</th>\n",
       "      <th>cores</th>\n",
       "      <th>memory</th>\n",
       "      <th>processor</th>\n",
       "      <th>interconnect</th>\n",
       "      <th>rmax</th>\n",
       "      <th>rpeak</th>\n",
       "      <th>nmax</th>\n",
       "      <th>...</th>\n",
       "      <th>country</th>\n",
       "      <th>site_id</th>\n",
       "      <th>system_id</th>\n",
       "      <th>name</th>\n",
       "      <th>site_url</th>\n",
       "      <th>city</th>\n",
       "      <th>segment</th>\n",
       "      <th>year</th>\n",
       "      <th>month</th>\n",
       "      <th>rank</th>\n",
       "    </tr>\n",
       "  </thead>\n",
       "  <tbody>\n",
       "    <tr>\n",
       "      <th>0</th>\n",
       "      <td>RIKEN Center for Computational Science</td>\n",
       "      <td>https://www.r-ccs.riken.jp/en/fugaku/project</td>\n",
       "      <td>FujitsuRIKEN Center for Computational ScienceJ...</td>\n",
       "      <td>7630848</td>\n",
       "      <td>5087232.0</td>\n",
       "      <td>A64FX 48C 2.2GHz</td>\n",
       "      <td>Tofu interconnect D</td>\n",
       "      <td>442010.0</td>\n",
       "      <td>537212.0</td>\n",
       "      <td>21288960.0</td>\n",
       "      <td>...</td>\n",
       "      <td>NaN</td>\n",
       "      <td>NaN</td>\n",
       "      <td>179807</td>\n",
       "      <td>Supercomputer Fugaku- Supercomputer Fugaku</td>\n",
       "      <td>NaN</td>\n",
       "      <td>NaN</td>\n",
       "      <td>NaN</td>\n",
       "      <td>2021</td>\n",
       "      <td>6</td>\n",
       "      <td>1</td>\n",
       "    </tr>\n",
       "    <tr>\n",
       "      <th>1</th>\n",
       "      <td>DOE/SC/Oak Ridge National Laboratory</td>\n",
       "      <td>http://www.olcf.ornl.gov/olcf-resources/comput...</td>\n",
       "      <td>IBMDOE/SC/Oak Ridge National LaboratoryUnited ...</td>\n",
       "      <td>2414592</td>\n",
       "      <td>2801664.0</td>\n",
       "      <td>IBM POWER9 22C 3.07GHz</td>\n",
       "      <td>Dual-rail Mellanox EDR Infiniband</td>\n",
       "      <td>148600.0</td>\n",
       "      <td>200794.9</td>\n",
       "      <td>16473600.0</td>\n",
       "      <td>...</td>\n",
       "      <td>NaN</td>\n",
       "      <td>NaN</td>\n",
       "      <td>179397</td>\n",
       "      <td>Summit- IBM Power System AC922</td>\n",
       "      <td>NaN</td>\n",
       "      <td>NaN</td>\n",
       "      <td>NaN</td>\n",
       "      <td>2021</td>\n",
       "      <td>6</td>\n",
       "      <td>2</td>\n",
       "    </tr>\n",
       "    <tr>\n",
       "      <th>2</th>\n",
       "      <td>DOE/NNSA/LLNL</td>\n",
       "      <td>https://hpc.llnl.gov/hardware/platforms/sierra</td>\n",
       "      <td>IBM / NVIDIA / MellanoxDOE/NNSA/LLNLUnited States</td>\n",
       "      <td>1572480</td>\n",
       "      <td>1382400.0</td>\n",
       "      <td>IBM POWER9 22C 3.1GHz</td>\n",
       "      <td>Dual-rail Mellanox EDR Infiniband</td>\n",
       "      <td>94640.0</td>\n",
       "      <td>125712.0</td>\n",
       "      <td>11902464.0</td>\n",
       "      <td>...</td>\n",
       "      <td>NaN</td>\n",
       "      <td>NaN</td>\n",
       "      <td>179398</td>\n",
       "      <td>Sierra- IBM Power System AC922</td>\n",
       "      <td>NaN</td>\n",
       "      <td>NaN</td>\n",
       "      <td>NaN</td>\n",
       "      <td>2021</td>\n",
       "      <td>6</td>\n",
       "      <td>3</td>\n",
       "    </tr>\n",
       "  </tbody>\n",
       "</table>\n",
       "<p>3 rows × 28 columns</p>\n",
       "</div>"
      ],
      "text/plain": [
       "                                site_name  \\\n",
       "0  RIKEN Center for Computational Science   \n",
       "1    DOE/SC/Oak Ridge National Laboratory   \n",
       "2                           DOE/NNSA/LLNL   \n",
       "\n",
       "                                          system_url  \\\n",
       "0       https://www.r-ccs.riken.jp/en/fugaku/project   \n",
       "1  http://www.olcf.ornl.gov/olcf-resources/comput...   \n",
       "2     https://hpc.llnl.gov/hardware/platforms/sierra   \n",
       "\n",
       "                                        manufacturer    cores     memory  \\\n",
       "0  FujitsuRIKEN Center for Computational ScienceJ...  7630848  5087232.0   \n",
       "1  IBMDOE/SC/Oak Ridge National LaboratoryUnited ...  2414592  2801664.0   \n",
       "2  IBM / NVIDIA / MellanoxDOE/NNSA/LLNLUnited States  1572480  1382400.0   \n",
       "\n",
       "                processor                       interconnect      rmax  \\\n",
       "0        A64FX 48C 2.2GHz                Tofu interconnect D  442010.0   \n",
       "1  IBM POWER9 22C 3.07GHz  Dual-rail Mellanox EDR Infiniband  148600.0   \n",
       "2   IBM POWER9 22C 3.1GHz  Dual-rail Mellanox EDR Infiniband   94640.0   \n",
       "\n",
       "      rpeak        nmax  ...  country  site_id  system_id  \\\n",
       "0  537212.0  21288960.0  ...      NaN      NaN     179807   \n",
       "1  200794.9  16473600.0  ...      NaN      NaN     179397   \n",
       "2  125712.0  11902464.0  ...      NaN      NaN     179398   \n",
       "\n",
       "                                         name site_url city segment  year  \\\n",
       "0  Supercomputer Fugaku- Supercomputer Fugaku      NaN  NaN     NaN  2021   \n",
       "1              Summit- IBM Power System AC922      NaN  NaN     NaN  2021   \n",
       "2              Sierra- IBM Power System AC922      NaN  NaN     NaN  2021   \n",
       "\n",
       "   month  rank  \n",
       "0      6     1  \n",
       "1      6     2  \n",
       "2      6     3  \n",
       "\n",
       "[3 rows x 28 columns]"
      ]
     },
     "execution_count": 15,
     "metadata": {},
     "output_type": "execute_result"
    }
   ],
   "source": [
    "df = pd.read_csv('top500hpc.csv')\n",
    "df.head(3)"
   ]
  },
  {
   "cell_type": "code",
   "execution_count": 16,
   "id": "27c39085",
   "metadata": {},
   "outputs": [
    {
     "data": {
      "text/plain": [
       "count      181.000000\n",
       "mean      1900.574586\n",
       "std       3559.653048\n",
       "min         61.000000\n",
       "25%        559.000000\n",
       "50%        943.000000\n",
       "75%       1470.000000\n",
       "max      29899.000000\n",
       "Name: power, dtype: float64"
      ]
     },
     "metadata": {},
     "output_type": "display_data"
    },
    {
     "data": {
      "image/png": "[encoded data removed]",
      "text/plain": [
       "<Figure size 432x288 with 1 Axes>"
      ]
     },
     "metadata": {
      "needs_background": "light"
     },
     "output_type": "display_data"
    }
   ],
   "source": [
    "df_pow = df['power']\n",
    "\n",
    "display(df_pow.describe())\n",
    "plt.scatter(df_pow.index, df_pow)\n",
    "plt.show()"
   ]
  },
  {
   "cell_type": "markdown",
   "id": "fa3ae105",
   "metadata": {},
   "source": [
    "Заполним пропуски в данных мединанным значением и посчитаем сумму общей потребляемой мощности"
   ]
  },
  {
   "cell_type": "code",
   "execution_count": 17,
   "id": "2348a574",
   "metadata": {},
   "outputs": [
    {
     "data": {
      "text/plain": [
       "943.0"
      ]
     },
     "execution_count": 17,
     "metadata": {},
     "output_type": "execute_result"
    }
   ],
   "source": [
    "df_pow.median()"
   ]
  },
  {
   "cell_type": "code",
   "execution_count": 18,
   "id": "b1015700",
   "metadata": {},
   "outputs": [
    {
     "data": {
      "text/plain": [
       "count      500.00000\n",
       "mean      1289.64200\n",
       "std       2186.99509\n",
       "min         61.00000\n",
       "25%        943.00000\n",
       "50%        943.00000\n",
       "75%        943.00000\n",
       "max      29899.00000\n",
       "Name: power, dtype: float64"
      ]
     },
     "metadata": {},
     "output_type": "display_data"
    },
    {
     "data": {
      "image/png": "[encoded data removed]",
      "text/plain": [
       "<Figure size 432x288 with 1 Axes>"
      ]
     },
     "metadata": {
      "needs_background": "light"
     },
     "output_type": "display_data"
    }
   ],
   "source": [
    "df_pow = df_pow.fillna(df_pow.median())\n",
    "\n",
    "display(df_pow.describe())\n",
    "plt.scatter(df_pow.index, df_pow)\n",
    "\n",
    "plt.show()"
   ]
  },
  {
   "cell_type": "code",
   "execution_count": 19,
   "id": "063673e5",
   "metadata": {},
   "outputs": [
    {
     "data": {
      "text/plain": [
       "'HPC total power 644821.0 kWh'"
      ]
     },
     "metadata": {},
     "output_type": "display_data"
    },
    {
     "data": {
      "text/plain": [
       "'HPC uses 2.4e-06% world produced power'"
      ]
     },
     "metadata": {},
     "output_type": "display_data"
    }
   ],
   "source": [
    "display(f'HPC total power {df_pow.sum()} kWh')\n",
    "\n",
    "display(f'HPC uses {df_pow.sum() / PRODUCED_POWER * 100:0.2}% world produced power')\n"
   ]
  },
  {
   "cell_type": "code",
   "execution_count": null,
   "id": "ec19e82a",
   "metadata": {},
   "outputs": [],
   "source": []
  },
  {
   "cell_type": "code",
   "execution_count": null,
   "id": "4c0c3299",
   "metadata": {},
   "outputs": [],
   "source": []
  }
 ],
 "metadata": {
  "kernelspec": {
   "display_name": "Python 3 (ipykernel)",
   "language": "python",
   "name": "python3"
  },
  "language_info": {
   "codemirror_mode": {
    "name": "ipython",
    "version": 3
   },
   "file_extension": ".py",
   "mimetype": "text/x-python",
   "name": "python",
   "nbconvert_exporter": "python",
   "pygments_lexer": "ipython3",
   "version": "3.9.7"
  }
 },
 "nbformat": 4,
 "nbformat_minor": 5
}
